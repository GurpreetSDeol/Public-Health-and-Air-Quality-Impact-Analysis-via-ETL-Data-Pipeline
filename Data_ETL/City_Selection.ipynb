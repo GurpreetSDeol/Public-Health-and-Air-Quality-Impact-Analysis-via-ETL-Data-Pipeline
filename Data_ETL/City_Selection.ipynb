{
 "cells": [
  {
   "cell_type": "code",
   "execution_count": 2,
   "metadata": {},
   "outputs": [],
   "source": [
    "import requests\n",
    "import json \n",
    "import pandas as pd \n",
    "import time\n",
    "import pycountry\n",
    "from dotenv import load_dotenv\n",
    "import os \n",
    "\n",
    "load_dotenv()\n",
    "\n",
    "Nin_api_key = os.getenv('Nin_api_key')"
   ]
  },
  {
   "cell_type": "code",
   "execution_count": 8,
   "metadata": {},
   "outputs": [],
   "source": [
    "#Load sample file to get the list of cities with population over 4,000,000\n",
    "pop_ranking = pd.read_csv(rf'C:\\Users\\gurpr\\OneDrive\\Documents\\New Projects\\Pollution and Health Analysis\\Data\\Raw\\world-city-listing-table.csv')\n",
    "pop_ranking = pop_ranking[pop_ranking['population']>4000000]\n",
    "\n",
    "\n",
    "def country_to_iso_alpha2(country_name):\n",
    "    try:\n",
    "        return pycountry.countries.lookup(country_name).alpha_2\n",
    "    except LookupError:\n",
    "        return None  \n",
    "    \n",
    "pop_ranking['country_iso'] = pop_ranking['country'].apply(country_to_iso_alpha2)\n",
    "\n",
    "countries = set(pop_ranking[\"country\"])\n",
    "cities = pop_ranking[['city','country_iso']]\n",
    "\n"
   ]
  },
  {
   "cell_type": "code",
   "execution_count": null,
   "metadata": {},
   "outputs": [],
   "source": [
    "#Use Ninja API to get Lon and Lat for the cities with updated Population statistics\n",
    "cities_coord = []\n",
    "delay = 2\n",
    "\n",
    "for index, row in cities.iterrows():\n",
    "    city = row['city']\n",
    "    country = row['country_iso']\n",
    "\n",
    "    api_url = f'https://api.api-ninjas.com/v1/city?name={city}&country={country}&min_population=4500000'\n",
    "    response = requests.get(api_url , headers={'X-Api-Key': Nin_api_key})\n",
    "    \n",
    "    if response.status_code == requests.codes.ok:\n",
    "        \n",
    "        cities_coord.append(response.text)\n",
    "        time.sleep(delay)\n",
    "    else:\n",
    "        print(\"Error:\", response.status_code, response.text)\n",
    "print(cities_coord)\n",
    "\n"
   ]
  },
  {
   "cell_type": "code",
   "execution_count": null,
   "metadata": {},
   "outputs": [],
   "source": [
    "#Flatten the nested JSON data\n",
    "\n",
    "flattened_list = []\n",
    "\n",
    "for json_str in cities_coord:\n",
    "\n",
    "    list_of_dicts = json.loads(json_str)\n",
    "    \n",
    "    if isinstance(list_of_dicts, list):\n",
    "        flattened_list.extend(list_of_dicts)\n",
    "    else:\n",
    "        print(f\"Unexpected data format: {list_of_dicts}\")\n",
    "\n",
    "file_path = rf'Data\\Raw\\cities_geodata_list.json'\n",
    "\n",
    "with open(file_path, 'w') as f:\n",
    "    json.dump(flattened_list, f, indent=4) \n"
   ]
  },
  {
   "cell_type": "code",
   "execution_count": 11,
   "metadata": {},
   "outputs": [
    {
     "name": "stdout",
     "output_type": "stream",
     "text": [
      "    city_name  latitude  longitude country  population  is_capital  city_id  \\\n",
      "0       Tokyo   35.6897   139.6920      JP    37977000        True        1   \n",
      "1       Delhi   28.6600    77.2300      IN    29617000       False        2   \n",
      "2    Shanghai   31.1667   121.4670      CN    22120000       False        3   \n",
      "26      Paris   48.8566     2.3522      FR    11020000        True       27   \n",
      "29      Seoul   37.5833   127.0000      KR    21794000        True       30   \n",
      "32     London   51.5072    -0.1275      GB    10979000        True       33   \n",
      "43   New York   40.6943   -73.9249      US    18713220       False       44   \n",
      "55  Singapore    1.3000   103.8000      SG     5745000        True       56   \n",
      "58  Barcelona   41.3825     2.1769      ES     4588000       False       59   \n",
      "64     Sydney  -33.8650   151.2090      AU     5312163       False       65   \n",
      "\n",
      "   country_iso  \n",
      "0          JPN  \n",
      "1          IND  \n",
      "2          CHN  \n",
      "26         FRA  \n",
      "29         KOR  \n",
      "32         GBR  \n",
      "43         USA  \n",
      "55         SGP  \n",
      "58         ESP  \n",
      "64         AUS  \n"
     ]
    }
   ],
   "source": [
    "file_path = rf'C:\\Users\\gurpr\\OneDrive\\Documents\\New Projects\\Pollution and Health Analysis\\Data\\Raw\\cities_geodata_list.json'\n",
    "\n",
    "data_to_csv = pd.read_json(file_path)\n",
    "data_to_csv.rename(columns={'name': 'city_name'}, inplace=True)\n",
    "data_to_csv['city_id'] = pd.factorize(data_to_csv['city_name'])[0] + 1\n",
    "\n",
    "cities = ['Tokyo','London','Paris','Seoul','Singapore','New York','Barcelona','Sydney','Shanghai','Delhi']\n",
    "data_to_csv = data_to_csv[data_to_csv['city_name'].isin(cities)]\n",
    "\n",
    "\n",
    "def country_to_iso_alpha3(country_name):\n",
    "    try:\n",
    "        return pycountry.countries.lookup(country_name).alpha_3\n",
    "    except LookupError:\n",
    "        return None  \n",
    "    \n",
    "data_to_csv['country_iso'] = data_to_csv['country'].apply(country_to_iso_alpha3)\n"
   ]
  },
  {
   "cell_type": "code",
   "execution_count": 13,
   "metadata": {},
   "outputs": [],
   "source": [
    "\n",
    "csv_save_path = rf'C:\\Users\\gurpr\\OneDrive\\Documents\\New Projects\\Pollution and Health Analysis\\Data_ETL\\Final_city_data.csv'\n",
    "json_save_path = rf'C:\\Users\\gurpr\\OneDrive\\Documents\\New Projects\\Pollution and Health Analysis\\Data_ETL\\Final_city_data.json'\n",
    "\n",
    "data_to_csv.to_csv(csv_save_path, index= False)\n",
    "city_data_json = data_to_csv.to_json(orient='records')\n",
    "city_data = json.loads(city_data_json)\n",
    "\n",
    "with open(json_save_path, 'w') as f:\n",
    "    json.dump(city_data, f, indent=4)"
   ]
  }
 ],
 "metadata": {
  "kernelspec": {
   "display_name": "Python 3",
   "language": "python",
   "name": "python3"
  },
  "language_info": {
   "codemirror_mode": {
    "name": "ipython",
    "version": 3
   },
   "file_extension": ".py",
   "mimetype": "text/x-python",
   "name": "python",
   "nbconvert_exporter": "python",
   "pygments_lexer": "ipython3",
   "version": "3.12.3"
  }
 },
 "nbformat": 4,
 "nbformat_minor": 2
}
