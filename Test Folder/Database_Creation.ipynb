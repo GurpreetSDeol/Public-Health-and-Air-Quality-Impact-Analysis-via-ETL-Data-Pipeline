{
    "cells": [
        {
            "cell_type": "code",
            "execution_count": null,
            "metadata": {
                "vscode": {
                    "languageId": "sql"
                }
            },
            "outputs": [],
            "source": [
                "DROP TABLE IF EXISTS cities, weather, pollution, weather_pollution_facts;"
            ]
        },
        {
            "cell_type": "code",
            "execution_count": null,
            "metadata": {
                "azdata_cell_guid": "fe488b60-ed5b-4212-a432-c9130cd009c0",
                "language": "sql",
                "vscode": {
                    "languageId": "sql"
                }
            },
            "outputs": [],
            "source": [
                "-- Dimension Table: Cities\n",
                "\n",
                "CREATE TABLE cities (\n",
                "    city_id SERIAL PRIMARY KEY,\n",
                "    city_name VARCHAR(100) NOT NULL,\n",
                "    country VARCHAR(100) NOT NULL,\n",
                "    latitude FLOAT NOT NULL,\n",
                "    longitude FLOAT NOT NULL,\n",
                "    population INTEGER NOT NULL,\n",
                "    is_capital BOOLEAN\n",
                ");\n",
                "\n",
                "-- Dimension Table: Weather\n",
                "\n",
                "CREATE TABLE weather (\n",
                "    weather_id SERIAL PRIMARY KEY,\n",
                "    city_id INTEGER NOT NULL,\n",
                "    date_time TIMESTAMP NOT NULL,\n",
                "    local_time TIMESTAMP NOT NULL,\n",
                "    temperature FLOAT,\n",
                "    feels_like FLOAT,\n",
                "    temp_min FLOAT,\n",
                "    temp_max FLOAT,\n",
                "    pressure INTEGER,\n",
                "    humidity INTEGER,\n",
                "    visibility INTEGER,\n",
                "    wind_speed FLOAT,\n",
                "    wind_deg INTEGER,\n",
                "    clouds_all INTEGER,\n",
                "    weather_main VARCHAR(50),\n",
                "    weather_description VARCHAR(100),\n",
                "    weather_icon VARCHAR(10),\n",
                "    sunrise TIMESTAMP,\n",
                "    sunset TIMESTAMP,\n",
                "    FOREIGN KEY (city_id) REFERENCES cities(city_id),\n",
                "    UNIQUE (city_id, date_time) \n",
                ");\n",
                "\n",
                "\n",
                "-- Dimension Table: Pollution\n",
                "\n",
                "CREATE TABLE pollution (\n",
                "    pollution_id SERIAL PRIMARY KEY,\n",
                "    city_id INTEGER NOT NULL,\n",
                "    date_time TIMESTAMP NOT NULL,\n",
                "    local_time TIMESTAMP NOT NULL,\n",
                "    aqi INTEGER,\n",
                "    co FLOAT,\n",
                "    no FLOAT,\n",
                "    no2 FLOAT,\n",
                "    o3 FLOAT,\n",
                "    so2 FLOAT,\n",
                "    pm2_5 FLOAT,\n",
                "    pm10 FLOAT,\n",
                "    nh3 FLOAT,\n",
                "    FOREIGN KEY (city_id) REFERENCES cities(city_id),\n",
                "    UNIQUE (city_id, date_time) \n",
                ");\n",
                "\n",
                "-- Fact Table: Weather and Pollution Facts\n",
                "\n",
                "CREATE TABLE weather_pollution_facts (\n",
                "    fact_id SERIAL PRIMARY KEY,\n",
                "    city_id INTEGER NOT NULL,\n",
                "    date_time TIMESTAMP NOT NULL,\n",
                "    local_time TIMESTAMP NOT NULL,\n",
                "    weather_id INTEGER NOT NULL,\n",
                "    pollution_id INTEGER NOT NULL,\n",
                "    FOREIGN KEY (weather_id) REFERENCES weather(weather_id),\n",
                "    FOREIGN KEY (pollution_id) REFERENCES pollution(pollution_id),\n",
                "    UNIQUE (weather_id, pollution_id)  -- Ensure unique pairing of weather and pollution records\n",
                ");\n",
                "\n"
            ]
        },
        {
            "cell_type": "code",
            "execution_count": null,
            "metadata": {
                "vscode": {
                    "languageId": "sql"
                }
            },
            "outputs": [],
            "source": [
                "\n",
                "COPY cities(city_name, latitude,longitude,country,population,is_capital,city_id) \n",
                "FROM 'D:\\Datasets\\Weather and Pollution\\Data\\Final\\Final_city_data.csv' DELIMITER ',' CSV HEADER;"
            ]
        },
        {
            "cell_type": "code",
            "execution_count": null,
            "metadata": {
                "vscode": {
                    "languageId": "sql"
                }
            },
            "outputs": [],
            "source": [
                "-- Insert into fact table by linking weather and pollution records\n",
                "INSERT INTO weather_pollution_facts (weather_id, pollution_id)\n",
                "SELECT \n",
                "    w.weather_id,\n",
                "    p.pollution_id\n",
                "FROM weather w\n",
                "JOIN pollution p ON w.city_id = p.city_id AND w.date_time = p.date_time\n",
                "WHERE NOT EXISTS (\n",
                "    SELECT 1 \n",
                "    FROM weather_pollution_facts wf\n",
                "    WHERE wf.weather_id = w.weather_id\n",
                "    AND wf.pollution_id = p.pollution_id\n",
                ");\n",
                "\n"
            ]
        },
        {
            "cell_type": "code",
            "execution_count": null,
            "metadata": {
                "vscode": {
                    "languageId": "sql"
                }
            },
            "outputs": [],
            "source": [
                "DELETE FROM weather;\n",
                "DELETE FROM pollution;\n"
            ]
        },
        {
            "cell_type": "code",
            "execution_count": null,
            "metadata": {
                "vscode": {
                    "languageId": "sql"
                }
            },
            "outputs": [],
            "source": [
                "SELECT count(*) FROM weather;\n",
                "SELECT count(*) FROM cities;\n",
                "SELECT count(*) FROM pollution;"
            ]
        }
    ],
    "metadata": {
        "kernelspec": {
            "display_name": "Python 3",
            "language": "python",
            "name": "python3"
        },
        "language_info": {
            "codemirror_mode": {
                "name": "ipython",
                "version": 3
            },
            "file_extension": ".py",
            "mimetype": "text/x-python",
            "name": "python",
            "nbconvert_exporter": "python",
            "pygments_lexer": "ipython3",
            "version": "3.12.3"
        }
    },
    "nbformat": 4,
    "nbformat_minor": 2
}
